{
 "cells": [
  {
   "cell_type": "code",
   "execution_count": 1,
   "metadata": {},
   "outputs": [],
   "source": [
    "import matplotlib.pyplot as plt\n",
    "import numpy as np\n",
    "import librosa\n",
    "import librosa.display\n",
    "import os\n",
    "\n",
    "from tqdm import tqdm\n",
    "\n",
    "import warnings\n",
    "warnings.filterwarnings('ignore')"
   ]
  },
  {
   "cell_type": "code",
   "execution_count": 2,
   "metadata": {},
   "outputs": [],
   "source": [
    "HOP_LENGTH = 512\n",
    "N_FFT = 3096\n",
    "N_MELS = 128\n",
    "\n",
    "VALID_MUSIC_FILES = ['mp3', 'wav']\n",
    "GENRES = ['classical']"
   ]
  },
  {
   "cell_type": "code",
   "execution_count": 3,
   "metadata": {},
   "outputs": [],
   "source": [
    "for genre in GENRES:\n",
    "    if not os.path.exists(os.path.join('spectrograms', genre)):\n",
    "        os.makedirs(os.path.join('spectrograms', genre))"
   ]
  },
  {
   "cell_type": "code",
   "execution_count": 4,
   "metadata": {},
   "outputs": [],
   "source": [
    "song_mapping = {}"
   ]
  },
  {
   "cell_type": "code",
   "execution_count": 5,
   "metadata": {},
   "outputs": [
    {
     "name": "stderr",
     "output_type": "stream",
     "text": [
      "  0%|          | 0/105 [00:00<?, ?it/s]"
     ]
    },
    {
     "name": "stdout",
     "output_type": "stream",
     "text": [
      "Analyzing classical songs\n"
     ]
    },
    {
     "name": "stderr",
     "output_type": "stream",
     "text": [
      "100%|██████████| 105/105 [27:08<00:00, 15.51s/it]\n"
     ]
    },
    {
     "data": {
      "text/plain": [
       "<Figure size 432x288 with 0 Axes>"
      ]
     },
     "metadata": {},
     "output_type": "display_data"
    }
   ],
   "source": [
    "for genre in GENRES:\n",
    "    print(f\"Analyzing {genre} songs\")\n",
    "    count = 0\n",
    "    for song in tqdm(os.listdir(os.path.join('music', genre))):\n",
    "        if song.split('.')[-1] not in VALID_MUSIC_FILES:\n",
    "            continue\n",
    "        \n",
    "        y, sr = librosa.load(os.path.join('music', genre, song))\n",
    "        S = librosa.feature.melspectrogram(y, sr=sr, n_fft=N_FFT, \n",
    "                                   hop_length=HOP_LENGTH, \n",
    "                                   n_mels=N_MELS)\n",
    "        S_DB = librosa.power_to_db(S, ref=np.max)\n",
    "        librosa.display.specshow(S_DB, sr=sr, hop_length=HOP_LENGTH, cmap='gray')\n",
    "        plt.axis('off')\n",
    "        plt.gca().set_position([0, 0, 1, 1])\n",
    "        plt.savefig(os.path.join('spectrograms', genre, str(count).zfill(4) + '.png'), bbox_inches=0)\n",
    "        plt.clf()\n",
    "        song_mapping[count] = song\n",
    "        \n",
    "        count += 1"
   ]
  },
  {
   "cell_type": "code",
   "execution_count": 6,
   "metadata": {},
   "outputs": [],
   "source": [
    "import pickle\n",
    "with open('classical.pickle', 'wb') as f:\n",
    "    pickle.dump(song_mapping, f)"
   ]
  },
  {
   "cell_type": "code",
   "execution_count": null,
   "metadata": {},
   "outputs": [],
   "source": []
  }
 ],
 "metadata": {
  "kernelspec": {
   "display_name": "Python 3",
   "language": "python",
   "name": "python3"
  },
  "language_info": {
   "codemirror_mode": {
    "name": "ipython",
    "version": 3
   },
   "file_extension": ".py",
   "mimetype": "text/x-python",
   "name": "python",
   "nbconvert_exporter": "python",
   "pygments_lexer": "ipython3",
   "version": "3.7.5"
  }
 },
 "nbformat": 4,
 "nbformat_minor": 4
}
