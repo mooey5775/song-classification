{
 "cells": [
  {
   "cell_type": "code",
   "execution_count": 1,
   "metadata": {},
   "outputs": [],
   "source": [
    "import matplotlib.pyplot as plt\n",
    "import numpy as np\n",
    "import librosa\n",
    "import librosa.display\n",
    "import os\n",
    "\n",
    "from tqdm import tqdm\n",
    "\n",
    "import warnings\n",
    "warnings.filterwarnings('ignore')"
   ]
  },
  {
   "cell_type": "code",
   "execution_count": 2,
   "metadata": {},
   "outputs": [],
   "source": [
    "HOP_LENGTH = 512\n",
    "N_FFT = 3096\n",
    "N_MELS = 128\n",
    "\n",
    "VALID_MUSIC_FILES = ['mp3', 'wav']\n",
    "GENRES = ['rock']"
   ]
  },
  {
   "cell_type": "code",
   "execution_count": 3,
   "metadata": {},
   "outputs": [],
   "source": [
    "for genre in GENRES:\n",
    "    if not os.path.exists(os.path.join('spectrograms', genre)):\n",
    "        os.makedirs(os.path.join('spectrograms', genre))"
   ]
  },
  {
   "cell_type": "code",
   "execution_count": 4,
   "metadata": {},
   "outputs": [],
   "source": [
    "song_mapping = {}"
   ]
  },
  {
   "cell_type": "code",
   "execution_count": 5,
   "metadata": {},
   "outputs": [
    {
     "name": "stderr",
     "output_type": "stream",
     "text": [
      "  0%|          | 0/49 [00:00<?, ?it/s]"
     ]
    },
    {
     "name": "stdout",
     "output_type": "stream",
     "text": [
      "Analyzing rock songs\n"
     ]
    },
    {
     "name": "stderr",
     "output_type": "stream",
     "text": [
      "100%|██████████| 49/49 [08:48<00:00, 10.80s/it]\n"
     ]
    },
    {
     "data": {
      "text/plain": [
       "<Figure size 432x288 with 0 Axes>"
      ]
     },
     "metadata": {},
     "output_type": "display_data"
    }
   ],
   "source": [
    "for genre in GENRES:\n",
    "    print(f\"Analyzing {genre} songs\")\n",
    "    count = 0\n",
    "    for song in tqdm(os.listdir(os.path.join('music', genre))):\n",
    "        if song.split('.')[-1] not in VALID_MUSIC_FILES:\n",
    "            continue\n",
    "        \n",
    "        y, sr = librosa.load(os.path.join('music', genre, song))\n",
    "        S = librosa.feature.melspectrogram(y, sr=sr, n_fft=N_FFT, \n",
    "                                   hop_length=HOP_LENGTH, \n",
    "                                   n_mels=N_MELS)\n",
    "        S_DB = librosa.power_to_db(S, ref=np.max)\n",
    "        librosa.display.specshow(S_DB, sr=sr, hop_length=HOP_LENGTH, cmap='gray')\n",
    "        plt.axis('off')\n",
    "        plt.gca().set_position([0, 0, 1, 1])\n",
    "        plt.savefig(os.path.join('spectrograms', genre, str(count).zfill(4) + '.png'), bbox_inches=0)\n",
    "        plt.clf()\n",
    "        song_mapping[count] = song\n",
    "        \n",
    "        count += 1"
   ]
  },
  {
   "cell_type": "code",
   "execution_count": 6,
   "metadata": {},
   "outputs": [],
   "source": [
    "import pickle\n",
    "with open('rock.pickle', 'wb') as f:\n",
    "    pickle.dump(song_mapping, f)"
   ]
  },
  {
   "cell_type": "code",
   "execution_count": 3,
   "metadata": {},
   "outputs": [],
   "source": [
    "import pickle\n",
    "with open('classical.pickle', 'rb') as f:\n",
    "    cl = pickle.load(f)"
   ]
  },
  {
   "cell_type": "code",
   "execution_count": 4,
   "metadata": {},
   "outputs": [
    {
     "data": {
      "text/plain": [
       "{0: '1731 Bach , Oboe Concerto in D minor, 2nd movement.mp3',\n",
       " 1: '1778 Rondo Alla Turca, from Piano Sonata in A.mp3',\n",
       " 2: '1928 Ravel - Bolero.mp3',\n",
       " 3: \"1870 Wagner- Ride of the Valkyries; from 'The Valkyrie'.mp3\",\n",
       " 4: '1825 Schubert - Ave Maria.mp3',\n",
       " 5: '1845 Wagner - Tannhauser - Arrival of the Guests at Wartburg.mp3',\n",
       " 6: \"1742 Handel , 'Hallelujah' (from 'Messiah').mp3\",\n",
       " 7: '1903 Sibelius - Valse Triste.mp3',\n",
       " 8: '1821 Rossini - The Barber Of Seville - Overture.mp3',\n",
       " 9: \"1822 Schubert - Symphony No.8 in B minor, 'Unfinished'.mp3\",\n",
       " 10: '1786 The Marriage of Figaro - March.mp3',\n",
       " 11: '1858 Offenbach- Orpheus in the Underworld.mp3',\n",
       " 12: 'New_World_Symphony_-_1st_Movement[Mp3Converter.net].mp3',\n",
       " 13: \"1864 Offenbach- Barcarolle, from 'The Tales of Hoffmann'.mp3\",\n",
       " 14: '1875 Tchaikovsky- Piano Concerto No. 1 in B flat minor, 1st movement (excerpt).mp3',\n",
       " 15: '1787 Eine Kleine Nachtmusik, 1st movement.mp3',\n",
       " 16: \"1892 Tchaikovsky- Waltz of the FLowers, from 'The Nutcracker'.mp3\",\n",
       " 17: \"1893 Dvorak- Symphony No. 9, 'From the New World', 2nd Movement.mp3\",\n",
       " 18: '1865 Brahms- Waltz.mp3',\n",
       " 19: '1796 Beethoven- Minuet in G.mp3',\n",
       " 20: \"1877 Wagner- Siegfried's Death and Funeral March; from 'Twilight of the Gods'.mp3\",\n",
       " 21: \"1872 Bizet- L'Arlesienne - Intermezzo.mp3\",\n",
       " 22: \"1870 Delibes- Notturno, from 'Coppelia'.mp3\",\n",
       " 23: '1867 J. Strauss II- The Blue Danube - Waltz.mp3',\n",
       " 24: '1866 Smetna- The Bartered Bride - Overture.mp3',\n",
       " 25: '1889 J. Strauss II- Emperor Waltz.mp3',\n",
       " 26: '1717 Handel , Water Music, Suite No. 2 in D.mp3',\n",
       " 27: 'Erik Satie - Sonatine bureaucratique (21).mp3',\n",
       " 28: '1775 Mozart , Violin Concerto No. 5 in A, 2nd Movement.mp3',\n",
       " 29: '1841 Mendelssohn -Spring Song.mp3',\n",
       " 30: '1727 Bach , Air (from Orchestral Suite No. 3 in D).mp3',\n",
       " 31: \"1875 Bizet- Les Toreadors, from 'Carmen'.mp3\",\n",
       " 32: '1858 Rubinstein- Melody in F.mp3',\n",
       " 33: '1838 Schumann - Traumerei.mp3',\n",
       " 34: '1729 Vivaldi , Mandoline Concerto in C, RV 425.mp3',\n",
       " 35: '1786 Piano Concerto No. 23 in A, 1st movement.mp3',\n",
       " 36: \"1801 Beethoven- 'Moonlight' Sonata, 1st movement.mp3\",\n",
       " 37: '1899 Sibelius - Finlandia.mp3',\n",
       " 38: '1850 Wagner - Lohengin - Prelude to Act 3.mp3',\n",
       " 39: '1775 Mozart , Violin Concerto No. 3 in G, 1st movement.mp3',\n",
       " 40: '1899 J. Strauss II - Vienna Blood - Waltz.mp3',\n",
       " 41: \"1887 Rimsky-Korsakov- Alborado, from 'Capriccio Espagnol'.mp3\",\n",
       " 42: '1854 Liszt- Les Preludes.mp3',\n",
       " 43: '1787 Don Giovanni - Overture.mp3',\n",
       " 44: '1848 Schumann - The Merry Peasant.mp3',\n",
       " 45: '1721 Bach , Brandenburg Concerto No. 3, 1st movement.mp3',\n",
       " 46: '1858 J. Strauss II- Tritsch Tratsch Polka.mp3',\n",
       " 47: '1721 Bach , Minuet and Badinerie (from Orchestral Suite No. 2 inB Minor).mp3',\n",
       " 48: \"1734 Handel , Largo (from 'Xerxes').mp3\",\n",
       " 49: '1900 Rimsky-Korsakov - Dance of the Bumble Bee.mp3',\n",
       " 50: '1791 Mozart- Clarinet Concerto in A, 2nd movement.mp3',\n",
       " 51: '1698 Pachelbel , Canon in D.mp3',\n",
       " 52: \"1823 Schubert - Ballet Music in G, from 'Rosamunde'.mp3\",\n",
       " 53: \"1791 Haydn- Symphony No. 94, 'Surprise', 2nd movement.mp3\",\n",
       " 54: '1901 Elgar - Pomp and Circumstance - March No. 1.mp3',\n",
       " 55: \"1749 Handel , Arrival of the Queen of Sheba (from 'Solomon').mp3\",\n",
       " 56: \"1843 Mendelssohn - Wedding March, from 'A Midsummer Night's Dream'.mp3\",\n",
       " 57: \"1838 Chopin - Polonaise in A, Op.40 No.3, 'Military'.mp3\",\n",
       " 58: '1847 Liszt - Liebestraum No.3 in A flat.mp3',\n",
       " 59: '1853 Verdi - La Traviata - Prelude to Act 1.mp3',\n",
       " 60: '1880 Dvorak- Songs My Mother Taught Me.mp3',\n",
       " 61: '1889 Tchaikovsky- The Sleeping Beauty - Introduction.mp3',\n",
       " 62: '1886 Grieg- The Last Spring.mp3',\n",
       " 63: '1788 Mozart- Symphony No. 40, 1st movement.mp3',\n",
       " 64: '1810 Beethoven- Fur Elise.mp3',\n",
       " 65: '1739 Handel , Concerto grosso in A minor op. 6 No. 4.mp3',\n",
       " 66: 'Profanation_from_Jeremiah_Symphony_No_1_by_Leonard_Bernstein_arr_by_Frank_Bencriscutto[Mp3Converter.net].mp3',\n",
       " 67: '1783 Horn Concerto No. 3 in E flat, 2nd movement.mp3',\n",
       " 68: '1886 Dvorak - Slavonic Dance No. 2.mp3',\n",
       " 69: '1902 Mahler - Symphony No. 5 - Adagietto.mp3',\n",
       " 70: \"1734 Bach , Sinfonia in G (from 'Christmas Oratorio').mp3\",\n",
       " 71: \"1876 Grieg- Morning, from 'Peer Gynt'.mp3\",\n",
       " 72: '1685 Purcell , Trumpet Tune and Air.mp3',\n",
       " 73: '1875 Smetana- The Moldau.mp3',\n",
       " 74: \"1797 Haydn- Emporor's Hymn, from String Quartet in C.mp3\",\n",
       " 75: '1811 Schubert - German Dance No.1.mp3',\n",
       " 76: '1808 Beethoven- Symphony No. 5, 1st movement.mp3',\n",
       " 77: \"1894 Massenet - Meditation, from 'Thais'.mp3\",\n",
       " 78: '1730 Albinoni , Adagio.mp3',\n",
       " 79: '1786 The Marriage of Figaro - Overture.mp3',\n",
       " 80: '1866 Suppe- Light Cavalry-Overture.mp3',\n",
       " 81: '1868 Brahms- Cradle Song.mp3',\n",
       " 82: '1820 Weber - Der Freischutz - Overture.mp3',\n",
       " 83: '1778 Flute Concerto No. 2 in D, 2nd movement.mp3',\n",
       " 84: '1709 Bach , Toccata in D minor.mp3',\n",
       " 85: '1896 R. Strauss - Also sprach Zarathustra - Fanfare.mp3',\n",
       " 86: '1894 Dvorak - Humoresque.mp3',\n",
       " 87: '1846 Suppe - Poet and Peasant - Overture.mp3',\n",
       " 88: '1876 Tchaikovsky- Marche Slave, Op. 31.mp3',\n",
       " 89: '1845 Mendelssohn - Violin Concerto in E minor, 2nd movement.mp3',\n",
       " 90: \"1833 Mendelssohn - Symphony No.4 in A, 'Italian', 1st movement.mp3\",\n",
       " 91: \"1731 Vivaldi , Flute Concerto in G minor 'La Notte', VI. Allegro.mp3\",\n",
       " 92: '1862 Verdi- The Force of Destiny-Overture.mp3',\n",
       " 93: '1776 Serenata Notturna.mp3',\n",
       " 94: '1842 Verdi - Nabucco - Overture.mp3',\n",
       " 95: '1847 Liszt - Hungarian Rhapsody No.2.mp3',\n",
       " 96: '1725 Vivaldi , The Four Seasons - Spring.mp3',\n",
       " 97: '1796 Haydn- Trumpet Concerto in E flat, 3rd movement.mp3',\n",
       " 98: \"1785 Piano Concerto No. 21 in C, 2nd movement ('Elvira Madigan').mp3\",\n",
       " 99: '1864 Grieg- I Love You.mp3',\n",
       " 100: '1791 Mozart- The Magic Flute - Overture.mp3',\n",
       " 101: \"1762 Gluck , Dance of the Blessed Spirtis (from 'Orpheus and Eurydice').mp3\",\n",
       " 102: \"1878 Tchaikovsky- Polonaise, from 'Eugene Onegin'.mp3\"}"
      ]
     },
     "execution_count": 4,
     "metadata": {},
     "output_type": "execute_result"
    }
   ],
   "source": [
    "cl"
   ]
  },
  {
   "cell_type": "code",
   "execution_count": 5,
   "metadata": {},
   "outputs": [],
   "source": [
    "with open('rock.pickle', 'rb') as f:\n",
    "    ro = pickle.load(f)"
   ]
  },
  {
   "cell_type": "code",
   "execution_count": 6,
   "metadata": {},
   "outputs": [
    {
     "data": {
      "text/plain": [
       "{0: 'Varien - Valkyrie III- Atonement (feat. Laura Brehm) - 01 Valkyrie III- Atonement (feat. Laura Brehm).mp3',\n",
       " 1: 'Fall Out Boy - Centuries (Radio Edit).mp3',\n",
       " 2: 'Rage Against The Machine - Killing In The Name (Dudi Intro Edit).mp3',\n",
       " 3: 'bad-wolves-zombie-official-video.mp3',\n",
       " 4: 'Fall Out Boy - My Songs Know (Main).mp3',\n",
       " 5: \"It's Alive - Back Into The Rain.mp3\",\n",
       " 6: 'Fall Out Boy - Hold Me Tight Or Dont (Original Mix).mp3',\n",
       " 7: 'Matchbox Twenty - Our Song (Main).mp3',\n",
       " 8: 'matchbox-twenty-unwell-official-video.mp3',\n",
       " 9: '24k-magic-bruno-mars-rock-cover-fame-on-fire-ft-staykeen.mp3',\n",
       " 10: 'Valentines Day - Linkin Park Minutes To Midnight.mp3',\n",
       " 11: 'Varien - Monstercat 019 - Endeavour - 29 Valkyrie II- Lacuna (feat. Cassandra Kay).mp3',\n",
       " 12: 'cypress-hill-insane-in-the-brain-official-video.mp3',\n",
       " 13: 'POPPIES - KNGDAVD.mp3',\n",
       " 14: 'Fall Out Boy - Alone Together (Main).mp3',\n",
       " 15: 'Kashmir.mp3',\n",
       " 16: 'Don McLean- American Pie (with Lyrics) (320  kbps) (Mp3Converter.net).mp3',\n",
       " 17: 'hotel-california-the-eagles-lyrics.mp3',\n",
       " 18: 'my-chemical-romance-im-not-okay-lyrics.mp3',\n",
       " 19: 'Young The Giant - My Body (Main Version).mp3',\n",
       " 20: 'Imagine Dragons - Warriors (Radio Edit).mp3',\n",
       " 21: 'adele-hello-rock-cover-by-fame-on-fire-punk-goes-pop.mp3',\n",
       " 22: 'matchbox-twenty-3am-official-video.mp3',\n",
       " 23: 'The_Neighbourhood_-_Scary_Love_AudioLyrics[Mp3Converter.net].mp3',\n",
       " 24: 'Fight Like Sin - Nightmare.mp3',\n",
       " 25: 'gods-plan-drake-fame-on-fire-rock-cover-trap-goes-punk.mp3',\n",
       " 26: 'Fall Out Boy - The Phoenix (Radio).mp3',\n",
       " 27: 'high-hopes-panic-at-the-disco-lyrics.mp3',\n",
       " 28: 'all-star-smash-mouth-lyrics.mp3',\n",
       " 29: 'victorious-panic-at-the-disco-lyrics.mp3',\n",
       " 30: 'i-am-king-impossible-shontelle-cover.mp3',\n",
       " 31: 'Bad Suns - Heartbreaker [Audio].mp3',\n",
       " 32: 'Fall Out Boy - Where Did The Party Go (Clean).mp3',\n",
       " 33: 'my-chemical-romance-na-na-na-official-lyric-video.mp3',\n",
       " 34: 'sorry-nothing-but-thieves-lyrics.mp3',\n",
       " 35: 'Fall Out Boy - Immortals (Radio Edit).mp3',\n",
       " 36: 'Fall Out Boy - Uma Thurman (Radio Edit).mp3',\n",
       " 37: 'santana-smooth-stereo-ft-rob-thomas.mp3',\n",
       " 38: 'honne-someone-that-loves-you-ft-izzy-bizu-lyrics.mp3',\n",
       " 39: 'HONNE - Just Dance.mp3',\n",
       " 40: 'matchbox-twenty-if-youre-gone-official-video.mp3',\n",
       " 41: 'Coyote Kisses - Six Shooter (5).mp3',\n",
       " 42: 'acdc-thunderstruck-official-video.mp3',\n",
       " 43: 'my-chemical-romance-famous-last-words-lyrics-in-video-mcr.mp3',\n",
       " 44: 'Coldplay_-_Yellow[Mp3Converter.net].mp3',\n",
       " 45: 'queen-dont-stop-me-now-official-video.mp3',\n",
       " 46: 'lany-pink-skies-official-audio.mp3',\n",
       " 47: 'lany-bad-bad-bad.mp3'}"
      ]
     },
     "execution_count": 6,
     "metadata": {},
     "output_type": "execute_result"
    }
   ],
   "source": [
    "ro"
   ]
  },
  {
   "cell_type": "code",
   "execution_count": null,
   "metadata": {},
   "outputs": [],
   "source": []
  }
 ],
 "metadata": {
  "kernelspec": {
   "display_name": "Python 3",
   "language": "python",
   "name": "python3"
  },
  "language_info": {
   "codemirror_mode": {
    "name": "ipython",
    "version": 3
   },
   "file_extension": ".py",
   "mimetype": "text/x-python",
   "name": "python",
   "nbconvert_exporter": "python",
   "pygments_lexer": "ipython3",
   "version": "3.7.5"
  }
 },
 "nbformat": 4,
 "nbformat_minor": 4
}
